{
 "cells": [
  {
   "cell_type": "code",
   "execution_count": 2,
   "id": "15f0b4d8",
   "metadata": {},
   "outputs": [],
   "source": [
    "import gradio as gr\n",
    "import pickle\n",
    "import warnings\n",
    "warnings.filterwarnings('ignore')"
   ]
  },
  {
   "cell_type": "code",
   "execution_count": 3,
   "id": "d854face",
   "metadata": {},
   "outputs": [],
   "source": [
    "#Load a Trained Model in this file\n",
    "\n",
    "with open('final_model.pkl','rb') as file:\n",
    "    loaded_model=pickle.load(file)"
   ]
  },
  {
   "cell_type": "code",
   "execution_count": 4,
   "id": "8fe31a21",
   "metadata": {},
   "outputs": [],
   "source": [
    "# Prediction Function\n",
    "\n",
    "def prediction(cs,geo,age,tenure,bal,nop,cc,am,sal,gen):\n",
    "    input_data=[[cs,geo,age,tenure,bal,nop,cc,am,sal,gen]]\n",
    "    \n",
    "    pred=loaded_model.predict(input_data)[0]\n",
    "    \n",
    "    if pred==0:\n",
    "        return 'Not At Risk'\n",
    "    else:\n",
    "        return 'At Risk'"
   ]
  },
  {
   "cell_type": "code",
   "execution_count": 5,
   "id": "c208329b",
   "metadata": {},
   "outputs": [
    {
     "data": {
      "text/plain": [
       "'Not At Risk'"
      ]
     },
     "execution_count": 5,
     "metadata": {},
     "output_type": "execute_result"
    }
   ],
   "source": [
    "prediction(560,4522,40,3,0,1,0,0,2000,1)"
   ]
  },
  {
   "cell_type": "markdown",
   "id": "a66d8f1e",
   "metadata": {},
   "source": [
    "# Interface"
   ]
  },
  {
   "cell_type": "code",
   "execution_count": 14,
   "id": "330de4a5",
   "metadata": {},
   "outputs": [],
   "source": [
    "\n",
    "iface=gr.Interface(fn=prediction,\n",
    "                  inputs=[gr.Number(label='Enter the Credict Score'),\n",
    "                         gr.Dropdown([('France',4522),('Germany',2255),('Spain',2223)],label='Select Country'),\n",
    "                         gr.Slider(minimum=18,maximum=100,step=1,label='Select Age'),\n",
    "                         gr.Number(label='Enter Tenure'),\n",
    "                         gr.Number(label='Enter Balance in Acount'),\n",
    "                         gr.Dropdown([1,2,3,4],label='Enter Number of Products With Customer'),\n",
    "                         gr.Dropdown([('Yes',1),('No',0)],label='Does Customer has Credit Card'),\n",
    "                         gr.Dropdown([('Yes',1),('No',0)],label='Is Customer An Active Member?'),\n",
    "                         gr.Number(label='What is the Estimated Salary of the Customer?'),\n",
    "                         gr.Dropdown([('male',1),('Female',0)],label='Select Gender')],\n",
    "                  outputs= gr.Textbox(label='Status'),\n",
    "                  title='HYDERABAD PUBLIC BANK',\n",
    "                  description='Enter Details Of Customer To Predict The Status',\n",
    "                  allow_flagging='never')"
   ]
  },
  {
   "cell_type": "code",
   "execution_count": 15,
   "id": "202b6cde",
   "metadata": {},
   "outputs": [
    {
     "name": "stdout",
     "output_type": "stream",
     "text": [
      "Running on local URL:  http://127.0.0.1:7862\n",
      "\n",
      "To create a public link, set `share=True` in `launch()`.\n"
     ]
    },
    {
     "data": {
      "text/html": [
       "<div><iframe src=\"http://127.0.0.1:7862/\" width=\"100%\" height=\"500\" allow=\"autoplay; camera; microphone; clipboard-read; clipboard-write;\" frameborder=\"0\" allowfullscreen></iframe></div>"
      ],
      "text/plain": [
       "<IPython.core.display.HTML object>"
      ]
     },
     "metadata": {},
     "output_type": "display_data"
    },
    {
     "data": {
      "text/plain": []
     },
     "execution_count": 15,
     "metadata": {},
     "output_type": "execute_result"
    }
   ],
   "source": [
    "iface.launch()"
   ]
  },
  {
   "cell_type": "code",
   "execution_count": null,
   "id": "54a8c130",
   "metadata": {},
   "outputs": [],
   "source": []
  }
 ],
 "metadata": {
  "kernelspec": {
   "display_name": "Python 3 (ipykernel)",
   "language": "python",
   "name": "python3"
  },
  "language_info": {
   "codemirror_mode": {
    "name": "ipython",
    "version": 3
   },
   "file_extension": ".py",
   "mimetype": "text/x-python",
   "name": "python",
   "nbconvert_exporter": "python",
   "pygments_lexer": "ipython3",
   "version": "3.11.5"
  }
 },
 "nbformat": 4,
 "nbformat_minor": 5
}
